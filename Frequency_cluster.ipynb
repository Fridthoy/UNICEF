{
 "cells": [
  {
   "cell_type": "code",
   "execution_count": 1,
   "metadata": {},
   "outputs": [],
   "source": [
    "import pandas as pd\n",
    "from random import randint\n",
    "from sklearn.cluster import KMeans\n",
    "import numpy as np\n",
    "import matplotlib.pyplot as plt"
   ]
  },
  {
   "cell_type": "markdown",
   "metadata": {},
   "source": [
    "# UNICEF \n",
    "### What triggers people to become donors? \n",
    "#####                   - An analysis based on the giving frequency and patterns of different typical givers"
   ]
  },
  {
   "cell_type": "code",
   "execution_count": 136,
   "metadata": {},
   "outputs": [],
   "source": [
    "#creating a couple of functions for later use\n",
    "def month_from_date(date): \n",
    "    return(int(date.split('.')[1])) #extracting month, date format dd.mm.yyyy\n",
    "    \n",
    "def str_to_int(amount):\n",
    "    return(int(amount.split(',')[0])) #converting amount to int"
   ]
  },
  {
   "cell_type": "code",
   "execution_count": 15,
   "metadata": {},
   "outputs": [
    {
     "data": {
      "text/html": [
       "<div>\n",
       "<style scoped>\n",
       "    .dataframe tbody tr th:only-of-type {\n",
       "        vertical-align: middle;\n",
       "    }\n",
       "\n",
       "    .dataframe tbody tr th {\n",
       "        vertical-align: top;\n",
       "    }\n",
       "\n",
       "    .dataframe thead th {\n",
       "        text-align: right;\n",
       "    }\n",
       "</style>\n",
       "<table border=\"1\" class=\"dataframe\">\n",
       "  <thead>\n",
       "    <tr style=\"text-align: right;\">\n",
       "      <th></th>\n",
       "      <th>GiverID</th>\n",
       "      <th>Month</th>\n",
       "      <th>Amount</th>\n",
       "    </tr>\n",
       "  </thead>\n",
       "  <tbody>\n",
       "    <tr>\n",
       "      <th>0</th>\n",
       "      <td>G-113149</td>\n",
       "      <td>2</td>\n",
       "      <td>90</td>\n",
       "    </tr>\n",
       "    <tr>\n",
       "      <th>1</th>\n",
       "      <td>G-243808</td>\n",
       "      <td>12</td>\n",
       "      <td>838</td>\n",
       "    </tr>\n",
       "    <tr>\n",
       "      <th>2</th>\n",
       "      <td>G-116363</td>\n",
       "      <td>1</td>\n",
       "      <td>388</td>\n",
       "    </tr>\n",
       "    <tr>\n",
       "      <th>3</th>\n",
       "      <td>G-219772</td>\n",
       "      <td>2</td>\n",
       "      <td>250</td>\n",
       "    </tr>\n",
       "    <tr>\n",
       "      <th>4</th>\n",
       "      <td>G-122877</td>\n",
       "      <td>3</td>\n",
       "      <td>250</td>\n",
       "    </tr>\n",
       "  </tbody>\n",
       "</table>\n",
       "</div>"
      ],
      "text/plain": [
       "    GiverID  Month  Amount\n",
       "0  G-113149      2      90\n",
       "1  G-243808     12     838\n",
       "2  G-116363      1     388\n",
       "3  G-219772      2     250\n",
       "4  G-122877      3     250"
      ]
     },
     "execution_count": 15,
     "metadata": {},
     "output_type": "execute_result"
    }
   ],
   "source": [
    "df_original = pd.read_csv('Payment_File_Cash.csv', sep=';')    #Import data\n",
    "df = pd.DataFrame(columns=['GiverID', 'Month', 'Amount'])    #Initialize data frame to hold features \n",
    "df['GiverID'] = df_original['Giver ID']                        #Insert features to the data frame\n",
    "df['Amount'] = list(map(str_to_int, df_original['Amount'].fillna('0'))) #Insert features to the data frame\n",
    "df['Month'] = list(map(month_from_date, df_original['Close Date']))  #Insert features to the data frame\n",
    "\n",
    "df.head() #displaying new dataframe"
   ]
  },
  {
   "cell_type": "markdown",
   "metadata": {},
   "source": [
    "## Group the givers and their typical (averaged) payed per month! \n",
    "###### Obs: use the average because the data set is from januar 2017- september 2020. Thus not fully four years and october, november and december would yield less amounts in not the average was used. "
   ]
  },
  {
   "cell_type": "code",
   "execution_count": 16,
   "metadata": {},
   "outputs": [
    {
     "data": {
      "text/html": [
       "<div>\n",
       "<style scoped>\n",
       "    .dataframe tbody tr th:only-of-type {\n",
       "        vertical-align: middle;\n",
       "    }\n",
       "\n",
       "    .dataframe tbody tr th {\n",
       "        vertical-align: top;\n",
       "    }\n",
       "\n",
       "    .dataframe thead th {\n",
       "        text-align: right;\n",
       "    }\n",
       "</style>\n",
       "<table border=\"1\" class=\"dataframe\">\n",
       "  <thead>\n",
       "    <tr style=\"text-align: right;\">\n",
       "      <th></th>\n",
       "      <th></th>\n",
       "      <th>Amount</th>\n",
       "    </tr>\n",
       "    <tr>\n",
       "      <th>GiverID</th>\n",
       "      <th>Month</th>\n",
       "      <th></th>\n",
       "    </tr>\n",
       "  </thead>\n",
       "  <tbody>\n",
       "    <tr>\n",
       "      <th>G-0219</th>\n",
       "      <th>1</th>\n",
       "      <td>324.0</td>\n",
       "    </tr>\n",
       "    <tr>\n",
       "      <th>G-0514</th>\n",
       "      <th>12</th>\n",
       "      <td>368.0</td>\n",
       "    </tr>\n",
       "    <tr>\n",
       "      <th rowspan=\"2\" valign=\"top\">G-0718</th>\n",
       "      <th>3</th>\n",
       "      <td>250.0</td>\n",
       "    </tr>\n",
       "    <tr>\n",
       "      <th>10</th>\n",
       "      <td>90.0</td>\n",
       "    </tr>\n",
       "    <tr>\n",
       "      <th>G-100000</th>\n",
       "      <th>12</th>\n",
       "      <td>186.0</td>\n",
       "    </tr>\n",
       "    <tr>\n",
       "      <th>G-100001</th>\n",
       "      <th>10</th>\n",
       "      <td>420.0</td>\n",
       "    </tr>\n",
       "    <tr>\n",
       "      <th>G-100004</th>\n",
       "      <th>11</th>\n",
       "      <td>554.0</td>\n",
       "    </tr>\n",
       "    <tr>\n",
       "      <th>G-100006</th>\n",
       "      <th>1</th>\n",
       "      <td>280.0</td>\n",
       "    </tr>\n",
       "    <tr>\n",
       "      <th>G-100007</th>\n",
       "      <th>12</th>\n",
       "      <td>999.0</td>\n",
       "    </tr>\n",
       "    <tr>\n",
       "      <th>G-100008</th>\n",
       "      <th>12</th>\n",
       "      <td>450.0</td>\n",
       "    </tr>\n",
       "    <tr>\n",
       "      <th>G-100010</th>\n",
       "      <th>2</th>\n",
       "      <td>540.0</td>\n",
       "    </tr>\n",
       "    <tr>\n",
       "      <th rowspan=\"7\" valign=\"top\">G-100015</th>\n",
       "      <th>3</th>\n",
       "      <td>383.0</td>\n",
       "    </tr>\n",
       "    <tr>\n",
       "      <th>4</th>\n",
       "      <td>350.0</td>\n",
       "    </tr>\n",
       "    <tr>\n",
       "      <th>5</th>\n",
       "      <td>387.0</td>\n",
       "    </tr>\n",
       "    <tr>\n",
       "      <th>7</th>\n",
       "      <td>368.0</td>\n",
       "    </tr>\n",
       "    <tr>\n",
       "      <th>9</th>\n",
       "      <td>387.0</td>\n",
       "    </tr>\n",
       "    <tr>\n",
       "      <th>10</th>\n",
       "      <td>443.5</td>\n",
       "    </tr>\n",
       "    <tr>\n",
       "      <th>12</th>\n",
       "      <td>380.0</td>\n",
       "    </tr>\n",
       "    <tr>\n",
       "      <th rowspan=\"4\" valign=\"top\">G-100016</th>\n",
       "      <th>1</th>\n",
       "      <td>717.0</td>\n",
       "    </tr>\n",
       "    <tr>\n",
       "      <th>2</th>\n",
       "      <td>250.0</td>\n",
       "    </tr>\n",
       "    <tr>\n",
       "      <th>6</th>\n",
       "      <td>876.0</td>\n",
       "    </tr>\n",
       "    <tr>\n",
       "      <th>12</th>\n",
       "      <td>736.0</td>\n",
       "    </tr>\n",
       "    <tr>\n",
       "      <th>G-100019</th>\n",
       "      <th>2</th>\n",
       "      <td>250.0</td>\n",
       "    </tr>\n",
       "    <tr>\n",
       "      <th>G-100020</th>\n",
       "      <th>1</th>\n",
       "      <td>392.0</td>\n",
       "    </tr>\n",
       "  </tbody>\n",
       "</table>\n",
       "</div>"
      ],
      "text/plain": [
       "                Amount\n",
       "GiverID  Month        \n",
       "G-0219   1       324.0\n",
       "G-0514   12      368.0\n",
       "G-0718   3       250.0\n",
       "         10       90.0\n",
       "G-100000 12      186.0\n",
       "G-100001 10      420.0\n",
       "G-100004 11      554.0\n",
       "G-100006 1       280.0\n",
       "G-100007 12      999.0\n",
       "G-100008 12      450.0\n",
       "G-100010 2       540.0\n",
       "G-100015 3       383.0\n",
       "         4       350.0\n",
       "         5       387.0\n",
       "         7       368.0\n",
       "         9       387.0\n",
       "         10      443.5\n",
       "         12      380.0\n",
       "G-100016 1       717.0\n",
       "         2       250.0\n",
       "         6       876.0\n",
       "         12      736.0\n",
       "G-100019 2       250.0\n",
       "G-100020 1       392.0"
      ]
     },
     "execution_count": 16,
     "metadata": {},
     "output_type": "execute_result"
    }
   ],
   "source": [
    "df_mean = df.groupby(by=['GiverID', 'Month']).mean()   #Grouping same user ID's and calculating their average amount\n",
    "df_mean.head(24)"
   ]
  },
  {
   "cell_type": "markdown",
   "metadata": {},
   "source": [
    "### Month of max payment, checking that it is the same as max of `df_mean`. "
   ]
  },
  {
   "cell_type": "code",
   "execution_count": 17,
   "metadata": {},
   "outputs": [
    {
     "data": {
      "text/html": [
       "<div>\n",
       "<style scoped>\n",
       "    .dataframe tbody tr th:only-of-type {\n",
       "        vertical-align: middle;\n",
       "    }\n",
       "\n",
       "    .dataframe tbody tr th {\n",
       "        vertical-align: top;\n",
       "    }\n",
       "\n",
       "    .dataframe thead th {\n",
       "        text-align: right;\n",
       "    }\n",
       "</style>\n",
       "<table border=\"1\" class=\"dataframe\">\n",
       "  <thead>\n",
       "    <tr style=\"text-align: right;\">\n",
       "      <th></th>\n",
       "      <th>Amount</th>\n",
       "    </tr>\n",
       "    <tr>\n",
       "      <th>GiverID</th>\n",
       "      <th></th>\n",
       "    </tr>\n",
       "  </thead>\n",
       "  <tbody>\n",
       "    <tr>\n",
       "      <th>G-0219</th>\n",
       "      <td>324.0</td>\n",
       "    </tr>\n",
       "    <tr>\n",
       "      <th>G-0514</th>\n",
       "      <td>368.0</td>\n",
       "    </tr>\n",
       "  </tbody>\n",
       "</table>\n",
       "</div>"
      ],
      "text/plain": [
       "         Amount\n",
       "GiverID        \n",
       "G-0219    324.0\n",
       "G-0514    368.0"
      ]
     },
     "execution_count": 17,
     "metadata": {},
     "output_type": "execute_result"
    }
   ],
   "source": [
    "# Finn maxbeløp per bruker per summerte måned\n",
    "df_max = df_mean.groupby(by='GiverID').max()\n",
    "df_max.head(2)"
   ]
  },
  {
   "cell_type": "markdown",
   "metadata": {},
   "source": [
    "### Scale the amounts of each user by their maximum gift. Double check that the month which is `1.000000` under neeth here, has the same value as the month that have max bayment to the user of `df_mean`."
   ]
  },
  {
   "cell_type": "code",
   "execution_count": 18,
   "metadata": {},
   "outputs": [
    {
     "data": {
      "text/html": [
       "<div>\n",
       "<style scoped>\n",
       "    .dataframe tbody tr th:only-of-type {\n",
       "        vertical-align: middle;\n",
       "    }\n",
       "\n",
       "    .dataframe tbody tr th {\n",
       "        vertical-align: top;\n",
       "    }\n",
       "\n",
       "    .dataframe thead th {\n",
       "        text-align: right;\n",
       "    }\n",
       "</style>\n",
       "<table border=\"1\" class=\"dataframe\">\n",
       "  <thead>\n",
       "    <tr style=\"text-align: right;\">\n",
       "      <th></th>\n",
       "      <th></th>\n",
       "      <th>Amount</th>\n",
       "    </tr>\n",
       "    <tr>\n",
       "      <th>GiverID</th>\n",
       "      <th>Month</th>\n",
       "      <th></th>\n",
       "    </tr>\n",
       "  </thead>\n",
       "  <tbody>\n",
       "    <tr>\n",
       "      <th>G-0219</th>\n",
       "      <th>1</th>\n",
       "      <td>1.000000</td>\n",
       "    </tr>\n",
       "    <tr>\n",
       "      <th>G-0514</th>\n",
       "      <th>12</th>\n",
       "      <td>1.000000</td>\n",
       "    </tr>\n",
       "    <tr>\n",
       "      <th rowspan=\"2\" valign=\"top\">G-0718</th>\n",
       "      <th>3</th>\n",
       "      <td>1.000000</td>\n",
       "    </tr>\n",
       "    <tr>\n",
       "      <th>10</th>\n",
       "      <td>0.360000</td>\n",
       "    </tr>\n",
       "    <tr>\n",
       "      <th>G-100000</th>\n",
       "      <th>12</th>\n",
       "      <td>1.000000</td>\n",
       "    </tr>\n",
       "    <tr>\n",
       "      <th>G-100001</th>\n",
       "      <th>10</th>\n",
       "      <td>1.000000</td>\n",
       "    </tr>\n",
       "    <tr>\n",
       "      <th>G-100004</th>\n",
       "      <th>11</th>\n",
       "      <td>1.000000</td>\n",
       "    </tr>\n",
       "    <tr>\n",
       "      <th>G-100006</th>\n",
       "      <th>1</th>\n",
       "      <td>1.000000</td>\n",
       "    </tr>\n",
       "    <tr>\n",
       "      <th>G-100007</th>\n",
       "      <th>12</th>\n",
       "      <td>1.000000</td>\n",
       "    </tr>\n",
       "    <tr>\n",
       "      <th>G-100008</th>\n",
       "      <th>12</th>\n",
       "      <td>1.000000</td>\n",
       "    </tr>\n",
       "    <tr>\n",
       "      <th>G-100010</th>\n",
       "      <th>2</th>\n",
       "      <td>1.000000</td>\n",
       "    </tr>\n",
       "    <tr>\n",
       "      <th rowspan=\"7\" valign=\"top\">G-100015</th>\n",
       "      <th>3</th>\n",
       "      <td>0.863585</td>\n",
       "    </tr>\n",
       "    <tr>\n",
       "      <th>4</th>\n",
       "      <td>0.789177</td>\n",
       "    </tr>\n",
       "    <tr>\n",
       "      <th>5</th>\n",
       "      <td>0.872604</td>\n",
       "    </tr>\n",
       "    <tr>\n",
       "      <th>7</th>\n",
       "      <td>0.829763</td>\n",
       "    </tr>\n",
       "    <tr>\n",
       "      <th>9</th>\n",
       "      <td>0.872604</td>\n",
       "    </tr>\n",
       "    <tr>\n",
       "      <th>10</th>\n",
       "      <td>1.000000</td>\n",
       "    </tr>\n",
       "    <tr>\n",
       "      <th>12</th>\n",
       "      <td>0.856821</td>\n",
       "    </tr>\n",
       "    <tr>\n",
       "      <th rowspan=\"4\" valign=\"top\">G-100016</th>\n",
       "      <th>1</th>\n",
       "      <td>0.818493</td>\n",
       "    </tr>\n",
       "    <tr>\n",
       "      <th>2</th>\n",
       "      <td>0.285388</td>\n",
       "    </tr>\n",
       "    <tr>\n",
       "      <th>6</th>\n",
       "      <td>1.000000</td>\n",
       "    </tr>\n",
       "    <tr>\n",
       "      <th>12</th>\n",
       "      <td>0.840183</td>\n",
       "    </tr>\n",
       "    <tr>\n",
       "      <th>G-100019</th>\n",
       "      <th>2</th>\n",
       "      <td>1.000000</td>\n",
       "    </tr>\n",
       "    <tr>\n",
       "      <th>G-100020</th>\n",
       "      <th>1</th>\n",
       "      <td>1.000000</td>\n",
       "    </tr>\n",
       "  </tbody>\n",
       "</table>\n",
       "</div>"
      ],
      "text/plain": [
       "                  Amount\n",
       "GiverID  Month          \n",
       "G-0219   1      1.000000\n",
       "G-0514   12     1.000000\n",
       "G-0718   3      1.000000\n",
       "         10     0.360000\n",
       "G-100000 12     1.000000\n",
       "G-100001 10     1.000000\n",
       "G-100004 11     1.000000\n",
       "G-100006 1      1.000000\n",
       "G-100007 12     1.000000\n",
       "G-100008 12     1.000000\n",
       "G-100010 2      1.000000\n",
       "G-100015 3      0.863585\n",
       "         4      0.789177\n",
       "         5      0.872604\n",
       "         7      0.829763\n",
       "         9      0.872604\n",
       "         10     1.000000\n",
       "         12     0.856821\n",
       "G-100016 1      0.818493\n",
       "         2      0.285388\n",
       "         6      1.000000\n",
       "         12     0.840183\n",
       "G-100019 2      1.000000\n",
       "G-100020 1      1.000000"
      ]
     },
     "execution_count": 18,
     "metadata": {},
     "output_type": "execute_result"
    }
   ],
   "source": [
    "# Normalize the averaged months \n",
    "df_scaled = (df_mean / df_max) #normalize \n",
    "df_scaled.head(24)  "
   ]
  },
  {
   "cell_type": "markdown",
   "metadata": {},
   "source": [
    "## Create data frame with one row per giver ID, and the frequency in 12 columns (12 months) for each row. "
   ]
  },
  {
   "cell_type": "code",
   "execution_count": 160,
   "metadata": {},
   "outputs": [],
   "source": [
    "df_transformed = pd.DataFrame(index=df['GiverID'].unique(), columns=[m for m in range(1, 13)])  # New dataframe with a index per giver ID with columns from 1 to 12"
   ]
  },
  {
   "cell_type": "code",
   "execution_count": 161,
   "metadata": {},
   "outputs": [
    {
     "data": {
      "text/html": [
       "<div>\n",
       "<style scoped>\n",
       "    .dataframe tbody tr th:only-of-type {\n",
       "        vertical-align: middle;\n",
       "    }\n",
       "\n",
       "    .dataframe tbody tr th {\n",
       "        vertical-align: top;\n",
       "    }\n",
       "\n",
       "    .dataframe thead th {\n",
       "        text-align: right;\n",
       "    }\n",
       "</style>\n",
       "<table border=\"1\" class=\"dataframe\">\n",
       "  <thead>\n",
       "    <tr style=\"text-align: right;\">\n",
       "      <th></th>\n",
       "      <th>1</th>\n",
       "      <th>2</th>\n",
       "      <th>3</th>\n",
       "      <th>4</th>\n",
       "      <th>5</th>\n",
       "      <th>6</th>\n",
       "      <th>7</th>\n",
       "      <th>8</th>\n",
       "      <th>9</th>\n",
       "      <th>10</th>\n",
       "      <th>11</th>\n",
       "      <th>12</th>\n",
       "    </tr>\n",
       "  </thead>\n",
       "  <tbody>\n",
       "    <tr>\n",
       "      <th>G-113149</th>\n",
       "      <td>NaN</td>\n",
       "      <td>NaN</td>\n",
       "      <td>NaN</td>\n",
       "      <td>NaN</td>\n",
       "      <td>NaN</td>\n",
       "      <td>NaN</td>\n",
       "      <td>NaN</td>\n",
       "      <td>NaN</td>\n",
       "      <td>NaN</td>\n",
       "      <td>NaN</td>\n",
       "      <td>NaN</td>\n",
       "      <td>NaN</td>\n",
       "    </tr>\n",
       "    <tr>\n",
       "      <th>G-243808</th>\n",
       "      <td>NaN</td>\n",
       "      <td>NaN</td>\n",
       "      <td>NaN</td>\n",
       "      <td>NaN</td>\n",
       "      <td>NaN</td>\n",
       "      <td>NaN</td>\n",
       "      <td>NaN</td>\n",
       "      <td>NaN</td>\n",
       "      <td>NaN</td>\n",
       "      <td>NaN</td>\n",
       "      <td>NaN</td>\n",
       "      <td>NaN</td>\n",
       "    </tr>\n",
       "    <tr>\n",
       "      <th>G-116363</th>\n",
       "      <td>NaN</td>\n",
       "      <td>NaN</td>\n",
       "      <td>NaN</td>\n",
       "      <td>NaN</td>\n",
       "      <td>NaN</td>\n",
       "      <td>NaN</td>\n",
       "      <td>NaN</td>\n",
       "      <td>NaN</td>\n",
       "      <td>NaN</td>\n",
       "      <td>NaN</td>\n",
       "      <td>NaN</td>\n",
       "      <td>NaN</td>\n",
       "    </tr>\n",
       "    <tr>\n",
       "      <th>G-219772</th>\n",
       "      <td>NaN</td>\n",
       "      <td>NaN</td>\n",
       "      <td>NaN</td>\n",
       "      <td>NaN</td>\n",
       "      <td>NaN</td>\n",
       "      <td>NaN</td>\n",
       "      <td>NaN</td>\n",
       "      <td>NaN</td>\n",
       "      <td>NaN</td>\n",
       "      <td>NaN</td>\n",
       "      <td>NaN</td>\n",
       "      <td>NaN</td>\n",
       "    </tr>\n",
       "    <tr>\n",
       "      <th>G-122877</th>\n",
       "      <td>NaN</td>\n",
       "      <td>NaN</td>\n",
       "      <td>NaN</td>\n",
       "      <td>NaN</td>\n",
       "      <td>NaN</td>\n",
       "      <td>NaN</td>\n",
       "      <td>NaN</td>\n",
       "      <td>NaN</td>\n",
       "      <td>NaN</td>\n",
       "      <td>NaN</td>\n",
       "      <td>NaN</td>\n",
       "      <td>NaN</td>\n",
       "    </tr>\n",
       "    <tr>\n",
       "      <th>...</th>\n",
       "      <td>...</td>\n",
       "      <td>...</td>\n",
       "      <td>...</td>\n",
       "      <td>...</td>\n",
       "      <td>...</td>\n",
       "      <td>...</td>\n",
       "      <td>...</td>\n",
       "      <td>...</td>\n",
       "      <td>...</td>\n",
       "      <td>...</td>\n",
       "      <td>...</td>\n",
       "      <td>...</td>\n",
       "    </tr>\n",
       "    <tr>\n",
       "      <th>G-177971</th>\n",
       "      <td>NaN</td>\n",
       "      <td>NaN</td>\n",
       "      <td>NaN</td>\n",
       "      <td>NaN</td>\n",
       "      <td>NaN</td>\n",
       "      <td>NaN</td>\n",
       "      <td>NaN</td>\n",
       "      <td>NaN</td>\n",
       "      <td>NaN</td>\n",
       "      <td>NaN</td>\n",
       "      <td>NaN</td>\n",
       "      <td>NaN</td>\n",
       "    </tr>\n",
       "    <tr>\n",
       "      <th>G-8074</th>\n",
       "      <td>NaN</td>\n",
       "      <td>NaN</td>\n",
       "      <td>NaN</td>\n",
       "      <td>NaN</td>\n",
       "      <td>NaN</td>\n",
       "      <td>NaN</td>\n",
       "      <td>NaN</td>\n",
       "      <td>NaN</td>\n",
       "      <td>NaN</td>\n",
       "      <td>NaN</td>\n",
       "      <td>NaN</td>\n",
       "      <td>NaN</td>\n",
       "    </tr>\n",
       "    <tr>\n",
       "      <th>G-265093</th>\n",
       "      <td>NaN</td>\n",
       "      <td>NaN</td>\n",
       "      <td>NaN</td>\n",
       "      <td>NaN</td>\n",
       "      <td>NaN</td>\n",
       "      <td>NaN</td>\n",
       "      <td>NaN</td>\n",
       "      <td>NaN</td>\n",
       "      <td>NaN</td>\n",
       "      <td>NaN</td>\n",
       "      <td>NaN</td>\n",
       "      <td>NaN</td>\n",
       "    </tr>\n",
       "    <tr>\n",
       "      <th>G-265095</th>\n",
       "      <td>NaN</td>\n",
       "      <td>NaN</td>\n",
       "      <td>NaN</td>\n",
       "      <td>NaN</td>\n",
       "      <td>NaN</td>\n",
       "      <td>NaN</td>\n",
       "      <td>NaN</td>\n",
       "      <td>NaN</td>\n",
       "      <td>NaN</td>\n",
       "      <td>NaN</td>\n",
       "      <td>NaN</td>\n",
       "      <td>NaN</td>\n",
       "    </tr>\n",
       "    <tr>\n",
       "      <th>G-265094</th>\n",
       "      <td>NaN</td>\n",
       "      <td>NaN</td>\n",
       "      <td>NaN</td>\n",
       "      <td>NaN</td>\n",
       "      <td>NaN</td>\n",
       "      <td>NaN</td>\n",
       "      <td>NaN</td>\n",
       "      <td>NaN</td>\n",
       "      <td>NaN</td>\n",
       "      <td>NaN</td>\n",
       "      <td>NaN</td>\n",
       "      <td>NaN</td>\n",
       "    </tr>\n",
       "  </tbody>\n",
       "</table>\n",
       "<p>75898 rows × 12 columns</p>\n",
       "</div>"
      ],
      "text/plain": [
       "           1    2    3    4    5    6    7    8    9    10   11   12\n",
       "G-113149  NaN  NaN  NaN  NaN  NaN  NaN  NaN  NaN  NaN  NaN  NaN  NaN\n",
       "G-243808  NaN  NaN  NaN  NaN  NaN  NaN  NaN  NaN  NaN  NaN  NaN  NaN\n",
       "G-116363  NaN  NaN  NaN  NaN  NaN  NaN  NaN  NaN  NaN  NaN  NaN  NaN\n",
       "G-219772  NaN  NaN  NaN  NaN  NaN  NaN  NaN  NaN  NaN  NaN  NaN  NaN\n",
       "G-122877  NaN  NaN  NaN  NaN  NaN  NaN  NaN  NaN  NaN  NaN  NaN  NaN\n",
       "...       ...  ...  ...  ...  ...  ...  ...  ...  ...  ...  ...  ...\n",
       "G-177971  NaN  NaN  NaN  NaN  NaN  NaN  NaN  NaN  NaN  NaN  NaN  NaN\n",
       "G-8074    NaN  NaN  NaN  NaN  NaN  NaN  NaN  NaN  NaN  NaN  NaN  NaN\n",
       "G-265093  NaN  NaN  NaN  NaN  NaN  NaN  NaN  NaN  NaN  NaN  NaN  NaN\n",
       "G-265095  NaN  NaN  NaN  NaN  NaN  NaN  NaN  NaN  NaN  NaN  NaN  NaN\n",
       "G-265094  NaN  NaN  NaN  NaN  NaN  NaN  NaN  NaN  NaN  NaN  NaN  NaN\n",
       "\n",
       "[75898 rows x 12 columns]"
      ]
     },
     "execution_count": 161,
     "metadata": {},
     "output_type": "execute_result"
    }
   ],
   "source": [
    "#df_transformed.iloc[1][2] = 2\n",
    "#df_transformed.loc['G-243808'][2]\n",
    "df_transformed"
   ]
  },
  {
   "cell_type": "code",
   "execution_count": 162,
   "metadata": {},
   "outputs": [
    {
     "name": "stdout",
     "output_type": "stream",
     "text": [
      "Did 75851/75898 rows!   \r"
     ]
    }
   ],
   "source": [
    "length = len(df_transformed.index) #used to print later ;) \n",
    "\n",
    "for i, idx in enumerate(df_transformed.index): #For each index\n",
    "    \n",
    "    if i % 50 == 0: #prints every 50 itteration \n",
    "        print(f'Did {i+1}/{length} rows!   ', end='\\r')   #just to check the time used, this code takes FOREVER! \n",
    "   \n",
    "    # Put in the transformed vector from df_scaled! Shiiiit! Bæææm!\n",
    "    for col in range(1, 13):  #goes though all the months of each giver\n",
    "        try:\n",
    "                df_transformed.loc[idx][col] = df_scaled.loc[idx].T[col].values[0]  #if the giver gave a gift this month it is added to df_transformed \n",
    "        except:  #else\n",
    "                df_transformed.loc[idx][col] = 0  #zero is added to the month"
   ]
  },
  {
   "cell_type": "code",
   "execution_count": 253,
   "metadata": {},
   "outputs": [],
   "source": [
    "#df_transformed.to_csv('df_transformed.csv') #save such that the prosses don't have to be done every run\n",
    "df_transformed = pd.read_csv('df_transformed.csv', index_col='Unnamed: 0')"
   ]
  },
  {
   "cell_type": "markdown",
   "metadata": {},
   "source": [
    "# And finnaly; clustering!"
   ]
  },
  {
   "cell_type": "code",
   "execution_count": 254,
   "metadata": {},
   "outputs": [],
   "source": [
    "df_transformed.fillna(0, inplace=True)   #takes away the \"NaN's\""
   ]
  },
  {
   "cell_type": "code",
   "execution_count": 255,
   "metadata": {},
   "outputs": [
    {
     "data": {
      "text/html": [
       "<div>\n",
       "<style scoped>\n",
       "    .dataframe tbody tr th:only-of-type {\n",
       "        vertical-align: middle;\n",
       "    }\n",
       "\n",
       "    .dataframe tbody tr th {\n",
       "        vertical-align: top;\n",
       "    }\n",
       "\n",
       "    .dataframe thead th {\n",
       "        text-align: right;\n",
       "    }\n",
       "</style>\n",
       "<table border=\"1\" class=\"dataframe\">\n",
       "  <thead>\n",
       "    <tr style=\"text-align: right;\">\n",
       "      <th></th>\n",
       "      <th>1</th>\n",
       "      <th>2</th>\n",
       "      <th>3</th>\n",
       "      <th>4</th>\n",
       "      <th>5</th>\n",
       "      <th>6</th>\n",
       "      <th>7</th>\n",
       "      <th>8</th>\n",
       "      <th>9</th>\n",
       "      <th>10</th>\n",
       "      <th>11</th>\n",
       "      <th>12</th>\n",
       "    </tr>\n",
       "  </thead>\n",
       "  <tbody>\n",
       "    <tr>\n",
       "      <th>G-113149</th>\n",
       "      <td>0.573529</td>\n",
       "      <td>0.676471</td>\n",
       "      <td>0.558824</td>\n",
       "      <td>0.637255</td>\n",
       "      <td>0.514706</td>\n",
       "      <td>0.897059</td>\n",
       "      <td>0.514706</td>\n",
       "      <td>1.0</td>\n",
       "      <td>0.720588</td>\n",
       "      <td>0.496324</td>\n",
       "      <td>0.588235</td>\n",
       "      <td>0.514706</td>\n",
       "    </tr>\n",
       "    <tr>\n",
       "      <th>G-243808</th>\n",
       "      <td>0.000000</td>\n",
       "      <td>0.000000</td>\n",
       "      <td>0.000000</td>\n",
       "      <td>0.000000</td>\n",
       "      <td>0.000000</td>\n",
       "      <td>0.000000</td>\n",
       "      <td>0.000000</td>\n",
       "      <td>0.0</td>\n",
       "      <td>0.000000</td>\n",
       "      <td>0.000000</td>\n",
       "      <td>0.000000</td>\n",
       "      <td>1.000000</td>\n",
       "    </tr>\n",
       "    <tr>\n",
       "      <th>G-116363</th>\n",
       "      <td>0.847162</td>\n",
       "      <td>0.000000</td>\n",
       "      <td>0.925764</td>\n",
       "      <td>0.000000</td>\n",
       "      <td>0.000000</td>\n",
       "      <td>0.843886</td>\n",
       "      <td>0.803493</td>\n",
       "      <td>0.0</td>\n",
       "      <td>1.000000</td>\n",
       "      <td>0.000000</td>\n",
       "      <td>0.000000</td>\n",
       "      <td>0.897380</td>\n",
       "    </tr>\n",
       "    <tr>\n",
       "      <th>G-219772</th>\n",
       "      <td>0.000000</td>\n",
       "      <td>1.000000</td>\n",
       "      <td>0.000000</td>\n",
       "      <td>0.000000</td>\n",
       "      <td>0.000000</td>\n",
       "      <td>0.000000</td>\n",
       "      <td>0.000000</td>\n",
       "      <td>0.0</td>\n",
       "      <td>0.000000</td>\n",
       "      <td>0.000000</td>\n",
       "      <td>0.000000</td>\n",
       "      <td>0.000000</td>\n",
       "    </tr>\n",
       "    <tr>\n",
       "      <th>G-122877</th>\n",
       "      <td>0.000000</td>\n",
       "      <td>1.000000</td>\n",
       "      <td>0.431779</td>\n",
       "      <td>0.000000</td>\n",
       "      <td>0.000000</td>\n",
       "      <td>0.982729</td>\n",
       "      <td>0.000000</td>\n",
       "      <td>0.0</td>\n",
       "      <td>0.000000</td>\n",
       "      <td>0.000000</td>\n",
       "      <td>0.000000</td>\n",
       "      <td>0.984456</td>\n",
       "    </tr>\n",
       "  </tbody>\n",
       "</table>\n",
       "</div>"
      ],
      "text/plain": [
       "                 1         2         3         4         5         6  \\\n",
       "G-113149  0.573529  0.676471  0.558824  0.637255  0.514706  0.897059   \n",
       "G-243808  0.000000  0.000000  0.000000  0.000000  0.000000  0.000000   \n",
       "G-116363  0.847162  0.000000  0.925764  0.000000  0.000000  0.843886   \n",
       "G-219772  0.000000  1.000000  0.000000  0.000000  0.000000  0.000000   \n",
       "G-122877  0.000000  1.000000  0.431779  0.000000  0.000000  0.982729   \n",
       "\n",
       "                 7    8         9        10        11        12  \n",
       "G-113149  0.514706  1.0  0.720588  0.496324  0.588235  0.514706  \n",
       "G-243808  0.000000  0.0  0.000000  0.000000  0.000000  1.000000  \n",
       "G-116363  0.803493  0.0  1.000000  0.000000  0.000000  0.897380  \n",
       "G-219772  0.000000  0.0  0.000000  0.000000  0.000000  0.000000  \n",
       "G-122877  0.000000  0.0  0.000000  0.000000  0.000000  0.984456  "
      ]
     },
     "execution_count": 255,
     "metadata": {},
     "output_type": "execute_result"
    }
   ],
   "source": [
    "df_transformed.head()"
   ]
  },
  {
   "cell_type": "code",
   "execution_count": 256,
   "metadata": {},
   "outputs": [
    {
     "data": {
      "text/plain": [
       "KMeans(algorithm='auto', copy_x=True, init='k-means++', max_iter=300,\n",
       "       n_clusters=2, n_init=10, n_jobs=None, precompute_distances='auto',\n",
       "       random_state=0, tol=0.0001, verbose=0)"
      ]
     },
     "execution_count": 256,
     "metadata": {},
     "output_type": "execute_result"
    }
   ],
   "source": [
    "n_clusters = 2      #number of clusters\n",
    "mod = KMeans(n_clusters=n_clusters, random_state=0) #creating model\n",
    "mod.fit(df_transformed)           #training model"
   ]
  },
  {
   "cell_type": "markdown",
   "metadata": {},
   "source": [
    "### Create new data frame with only one row per giver ID and givers cluster ID "
   ]
  },
  {
   "cell_type": "code",
   "execution_count": 257,
   "metadata": {},
   "outputs": [],
   "source": [
    "#cluster_df = pd.DataFrame(index=df_transformed.index, columns=['ClusterID'])\n",
    "    # Grunnen til at vi tar reshape her, er fordi KMeans egentlig forventer å predicte på en matrise, og ikke\n",
    "    # kun på én rad. Derfor må vi fortelle han at han kun får én rad. Prøv å ta bort reshape, så ser du at den\n",
    "    # klager!\n",
    "#cluster_df['ClusterID'] = mod.predict(df_transformed)\n",
    "df_transformed['ClusterID'] = mod.predict(df_transformed) #predicting the data set "
   ]
  },
  {
   "cell_type": "code",
   "execution_count": 258,
   "metadata": {},
   "outputs": [
    {
     "data": {
      "text/html": [
       "<div>\n",
       "<style scoped>\n",
       "    .dataframe tbody tr th:only-of-type {\n",
       "        vertical-align: middle;\n",
       "    }\n",
       "\n",
       "    .dataframe tbody tr th {\n",
       "        vertical-align: top;\n",
       "    }\n",
       "\n",
       "    .dataframe thead th {\n",
       "        text-align: right;\n",
       "    }\n",
       "</style>\n",
       "<table border=\"1\" class=\"dataframe\">\n",
       "  <thead>\n",
       "    <tr style=\"text-align: right;\">\n",
       "      <th></th>\n",
       "      <th>1</th>\n",
       "      <th>2</th>\n",
       "      <th>3</th>\n",
       "      <th>4</th>\n",
       "      <th>5</th>\n",
       "      <th>6</th>\n",
       "      <th>7</th>\n",
       "      <th>8</th>\n",
       "      <th>9</th>\n",
       "      <th>10</th>\n",
       "      <th>11</th>\n",
       "      <th>12</th>\n",
       "      <th>ClusterID</th>\n",
       "    </tr>\n",
       "  </thead>\n",
       "  <tbody>\n",
       "    <tr>\n",
       "      <th>G-113149</th>\n",
       "      <td>0.573529</td>\n",
       "      <td>0.676471</td>\n",
       "      <td>0.558824</td>\n",
       "      <td>0.637255</td>\n",
       "      <td>0.514706</td>\n",
       "      <td>0.897059</td>\n",
       "      <td>0.514706</td>\n",
       "      <td>1.0</td>\n",
       "      <td>0.720588</td>\n",
       "      <td>0.496324</td>\n",
       "      <td>0.588235</td>\n",
       "      <td>0.514706</td>\n",
       "      <td>0</td>\n",
       "    </tr>\n",
       "    <tr>\n",
       "      <th>G-243808</th>\n",
       "      <td>0.000000</td>\n",
       "      <td>0.000000</td>\n",
       "      <td>0.000000</td>\n",
       "      <td>0.000000</td>\n",
       "      <td>0.000000</td>\n",
       "      <td>0.000000</td>\n",
       "      <td>0.000000</td>\n",
       "      <td>0.0</td>\n",
       "      <td>0.000000</td>\n",
       "      <td>0.000000</td>\n",
       "      <td>0.000000</td>\n",
       "      <td>1.000000</td>\n",
       "      <td>1</td>\n",
       "    </tr>\n",
       "    <tr>\n",
       "      <th>G-116363</th>\n",
       "      <td>0.847162</td>\n",
       "      <td>0.000000</td>\n",
       "      <td>0.925764</td>\n",
       "      <td>0.000000</td>\n",
       "      <td>0.000000</td>\n",
       "      <td>0.843886</td>\n",
       "      <td>0.803493</td>\n",
       "      <td>0.0</td>\n",
       "      <td>1.000000</td>\n",
       "      <td>0.000000</td>\n",
       "      <td>0.000000</td>\n",
       "      <td>0.897380</td>\n",
       "      <td>1</td>\n",
       "    </tr>\n",
       "    <tr>\n",
       "      <th>G-219772</th>\n",
       "      <td>0.000000</td>\n",
       "      <td>1.000000</td>\n",
       "      <td>0.000000</td>\n",
       "      <td>0.000000</td>\n",
       "      <td>0.000000</td>\n",
       "      <td>0.000000</td>\n",
       "      <td>0.000000</td>\n",
       "      <td>0.0</td>\n",
       "      <td>0.000000</td>\n",
       "      <td>0.000000</td>\n",
       "      <td>0.000000</td>\n",
       "      <td>0.000000</td>\n",
       "      <td>0</td>\n",
       "    </tr>\n",
       "    <tr>\n",
       "      <th>G-122877</th>\n",
       "      <td>0.000000</td>\n",
       "      <td>1.000000</td>\n",
       "      <td>0.431779</td>\n",
       "      <td>0.000000</td>\n",
       "      <td>0.000000</td>\n",
       "      <td>0.982729</td>\n",
       "      <td>0.000000</td>\n",
       "      <td>0.0</td>\n",
       "      <td>0.000000</td>\n",
       "      <td>0.000000</td>\n",
       "      <td>0.000000</td>\n",
       "      <td>0.984456</td>\n",
       "      <td>1</td>\n",
       "    </tr>\n",
       "  </tbody>\n",
       "</table>\n",
       "</div>"
      ],
      "text/plain": [
       "                 1         2         3         4         5         6  \\\n",
       "G-113149  0.573529  0.676471  0.558824  0.637255  0.514706  0.897059   \n",
       "G-243808  0.000000  0.000000  0.000000  0.000000  0.000000  0.000000   \n",
       "G-116363  0.847162  0.000000  0.925764  0.000000  0.000000  0.843886   \n",
       "G-219772  0.000000  1.000000  0.000000  0.000000  0.000000  0.000000   \n",
       "G-122877  0.000000  1.000000  0.431779  0.000000  0.000000  0.982729   \n",
       "\n",
       "                 7    8         9        10        11        12  ClusterID  \n",
       "G-113149  0.514706  1.0  0.720588  0.496324  0.588235  0.514706          0  \n",
       "G-243808  0.000000  0.0  0.000000  0.000000  0.000000  1.000000          1  \n",
       "G-116363  0.803493  0.0  1.000000  0.000000  0.000000  0.897380          1  \n",
       "G-219772  0.000000  0.0  0.000000  0.000000  0.000000  0.000000          0  \n",
       "G-122877  0.000000  0.0  0.000000  0.000000  0.000000  0.984456          1  "
      ]
     },
     "execution_count": 258,
     "metadata": {},
     "output_type": "execute_result"
    }
   ],
   "source": [
    "df_transformed.head()"
   ]
  },
  {
   "cell_type": "code",
   "execution_count": 259,
   "metadata": {},
   "outputs": [],
   "source": [
    "#cluster_df['nr'] = cluster_df['ClusterID']\n",
    "members_in_cluster = df_transformed.groupby(by=\"ClusterID\").count()  #calculating the size of each cluster"
   ]
  },
  {
   "cell_type": "code",
   "execution_count": 260,
   "metadata": {},
   "outputs": [
    {
     "data": {
      "text/plain": [
       "array([[0.10608053, 0.26202903, 0.23956698, 0.08412643, 0.03094429,\n",
       "        0.07484298, 0.05947309, 0.18963158, 0.22536737, 0.0995173 ,\n",
       "        0.08946108, 0.00919649],\n",
       "       [0.1087838 , 0.12764681, 0.16860078, 0.12444948, 0.02906736,\n",
       "        0.10722148, 0.11580341, 0.14167615, 0.13310249, 0.11408389,\n",
       "        0.04439584, 0.95529718]])"
      ]
     },
     "execution_count": 260,
     "metadata": {},
     "output_type": "execute_result"
    }
   ],
   "source": [
    "mod.cluster_centers_  #cluster centers -->  typical donor in this cluster"
   ]
  },
  {
   "cell_type": "code",
   "execution_count": 261,
   "metadata": {},
   "outputs": [
    {
     "data": {
      "text/plain": [
       "array([[0.10608053, 0.26202903, 0.23956698, 0.08412643, 0.03094429,\n",
       "        0.07484298, 0.05947309, 0.18963158, 0.22536737, 0.0995173 ,\n",
       "        0.08946108, 0.00919649],\n",
       "       [0.1087838 , 0.12764681, 0.16860078, 0.12444948, 0.02906736,\n",
       "        0.10722148, 0.11580341, 0.14167615, 0.13310249, 0.11408389,\n",
       "        0.04439584, 0.95529718]])"
      ]
     },
     "execution_count": 261,
     "metadata": {},
     "output_type": "execute_result"
    }
   ],
   "source": [
    "len(mod.cluster_centers_)\n",
    "mod.cluster_centers_"
   ]
  },
  {
   "cell_type": "markdown",
   "metadata": {},
   "source": [
    "## Plotting"
   ]
  },
  {
   "cell_type": "code",
   "execution_count": 262,
   "metadata": {},
   "outputs": [
    {
     "data": {
      "image/png": "[encoded data removed]",
      "text/plain": [
       "<Figure size 432x288 with 1 Axes>"
      ]
     },
     "metadata": {
      "needs_background": "light"
     },
     "output_type": "display_data"
    }
   ],
   "source": [
    "fig, ax = plt.subplots()  #initializing plot\n",
    "for i, cl in enumerate(mod.cluster_centers_): #iterating though cluster centers -->  typical donor in this cluster\n",
    "    plt.plot([i for i in range(1,13)], cl, label='Cluster ' + str(i) + '; Members ' + str(members_in_cluster.loc[i][1])) #ploting each cluster\n",
    "plt.legend() #inserting legend\n",
    "fig.savefig(str(n_clusters) +'cluster centers month plot.png') #save plot for report\n",
    "plt.xlabel('Months from Jan (1) to Dec (12)')\n",
    "plt.ylabel('Normalized amount')\n",
    "plt.show() #display plot\n",
    "#I mai kjøper folk ferie. I november kjøper folk julegave. Stakkars fattige barn. "
   ]
  },
  {
   "cell_type": "code",
   "execution_count": 263,
   "metadata": {},
   "outputs": [],
   "source": [
    "df_merged = df_transformed.merge(df_original, how='inner', left_index=True, right_on='Giver ID')[['ClusterID', 'Source Channel Recruitment', 'Amount']] #merging Df_transformed and df_original by Giver ID. Wish to extract the channel of recruitment and analyse it by the typical giver groups :) "
   ]
  },
  {
   "cell_type": "code",
   "execution_count": 264,
   "metadata": {},
   "outputs": [
    {
     "data": {
      "text/html": [
       "<div>\n",
       "<style scoped>\n",
       "    .dataframe tbody tr th:only-of-type {\n",
       "        vertical-align: middle;\n",
       "    }\n",
       "\n",
       "    .dataframe tbody tr th {\n",
       "        vertical-align: top;\n",
       "    }\n",
       "\n",
       "    .dataframe thead th {\n",
       "        text-align: right;\n",
       "    }\n",
       "</style>\n",
       "<table border=\"1\" class=\"dataframe\">\n",
       "  <thead>\n",
       "    <tr style=\"text-align: right;\">\n",
       "      <th></th>\n",
       "      <th>ClusterID</th>\n",
       "      <th>Source Channel Recruitment</th>\n",
       "      <th>Amount</th>\n",
       "    </tr>\n",
       "  </thead>\n",
       "  <tbody>\n",
       "    <tr>\n",
       "      <th>0</th>\n",
       "      <td>0</td>\n",
       "      <td>Direct Mail</td>\n",
       "      <td>90,00</td>\n",
       "    </tr>\n",
       "    <tr>\n",
       "      <th>1433</th>\n",
       "      <td>0</td>\n",
       "      <td>Direct Mail</td>\n",
       "      <td>35,00</td>\n",
       "    </tr>\n",
       "    <tr>\n",
       "      <th>1734</th>\n",
       "      <td>0</td>\n",
       "      <td>Direct Mail</td>\n",
       "      <td>35,00</td>\n",
       "    </tr>\n",
       "    <tr>\n",
       "      <th>2002</th>\n",
       "      <td>0</td>\n",
       "      <td>Direct Mail</td>\n",
       "      <td>35,00</td>\n",
       "    </tr>\n",
       "    <tr>\n",
       "      <th>8848</th>\n",
       "      <td>0</td>\n",
       "      <td>Direct Mail</td>\n",
       "      <td>100,00</td>\n",
       "    </tr>\n",
       "  </tbody>\n",
       "</table>\n",
       "</div>"
      ],
      "text/plain": [
       "      ClusterID Source Channel Recruitment  Amount\n",
       "0             0                Direct Mail   90,00\n",
       "1433          0                Direct Mail   35,00\n",
       "1734          0                Direct Mail   35,00\n",
       "2002          0                Direct Mail   35,00\n",
       "8848          0                Direct Mail  100,00"
      ]
     },
     "execution_count": 264,
     "metadata": {},
     "output_type": "execute_result"
    }
   ],
   "source": [
    "df_merged.head()"
   ]
  },
  {
   "cell_type": "code",
   "execution_count": 265,
   "metadata": {},
   "outputs": [
    {
     "data": {
      "text/html": [
       "<div>\n",
       "<style scoped>\n",
       "    .dataframe tbody tr th:only-of-type {\n",
       "        vertical-align: middle;\n",
       "    }\n",
       "\n",
       "    .dataframe tbody tr th {\n",
       "        vertical-align: top;\n",
       "    }\n",
       "\n",
       "    .dataframe thead th {\n",
       "        text-align: right;\n",
       "    }\n",
       "</style>\n",
       "<table border=\"1\" class=\"dataframe\">\n",
       "  <thead>\n",
       "    <tr style=\"text-align: right;\">\n",
       "      <th></th>\n",
       "      <th>Source Channel Recruitment</th>\n",
       "      <th>Amount</th>\n",
       "    </tr>\n",
       "    <tr>\n",
       "      <th>ClusterID</th>\n",
       "      <th></th>\n",
       "      <th></th>\n",
       "    </tr>\n",
       "  </thead>\n",
       "  <tbody>\n",
       "    <tr>\n",
       "      <th>0</th>\n",
       "      <td>106938</td>\n",
       "      <td>106949</td>\n",
       "    </tr>\n",
       "  </tbody>\n",
       "</table>\n",
       "</div>"
      ],
      "text/plain": [
       "           Source Channel Recruitment  Amount\n",
       "ClusterID                                    \n",
       "0                              106938  106949"
      ]
     },
     "execution_count": 265,
     "metadata": {},
     "output_type": "execute_result"
    }
   ],
   "source": [
    "members_df = df_merged.groupby(by='ClusterID').count() #Grouping again by cluster ID\n",
    "members_df.head(1)"
   ]
  },
  {
   "cell_type": "code",
   "execution_count": 266,
   "metadata": {},
   "outputs": [
    {
     "data": {
      "text/html": [
       "<div>\n",
       "<style scoped>\n",
       "    .dataframe tbody tr th:only-of-type {\n",
       "        vertical-align: middle;\n",
       "    }\n",
       "\n",
       "    .dataframe tbody tr th {\n",
       "        vertical-align: top;\n",
       "    }\n",
       "\n",
       "    .dataframe thead th {\n",
       "        text-align: right;\n",
       "    }\n",
       "</style>\n",
       "<table border=\"1\" class=\"dataframe\">\n",
       "  <thead>\n",
       "    <tr style=\"text-align: right;\">\n",
       "      <th></th>\n",
       "      <th>Number</th>\n",
       "      <th>_</th>\n",
       "    </tr>\n",
       "    <tr>\n",
       "      <th>ClusterID</th>\n",
       "      <th></th>\n",
       "      <th></th>\n",
       "    </tr>\n",
       "  </thead>\n",
       "  <tbody>\n",
       "    <tr>\n",
       "      <th>0</th>\n",
       "      <td>106938</td>\n",
       "      <td>106949</td>\n",
       "    </tr>\n",
       "  </tbody>\n",
       "</table>\n",
       "</div>"
      ],
      "text/plain": [
       "           Number       _\n",
       "ClusterID                \n",
       "0          106938  106949"
      ]
     },
     "execution_count": 266,
     "metadata": {},
     "output_type": "execute_result"
    }
   ],
   "source": [
    "members_df.columns = ['Number', '_'] #change to more logical name of columns \n",
    "members_df.head(1)"
   ]
  },
  {
   "cell_type": "code",
   "execution_count": 267,
   "metadata": {},
   "outputs": [
    {
     "data": {
      "text/plain": [
       "ClusterID\n",
       "0    106938\n",
       "1    106084\n",
       "Name: Number, dtype: int64"
      ]
     },
     "execution_count": 267,
     "metadata": {},
     "output_type": "execute_result"
    }
   ],
   "source": [
    "members_df = members_df['Number'] #take away column '-'\n",
    "members_df.head()"
   ]
  },
  {
   "cell_type": "code",
   "execution_count": 268,
   "metadata": {},
   "outputs": [],
   "source": [
    "#  scale the channel of recruitment for each user group \n",
    "df_channel = df_merged.groupby(by=['ClusterID', 'Source Channel Recruitment']).count() #find the number of givers for each source \n",
    "for i in range(len(members_in_cluster)): #go through all the members\n",
    "    df_channel.loc[i] = [t/members_df.loc[i] for t in df_channel.loc[i].values] #scale the number of givers \"convinced to give\" by a channel "
   ]
  },
  {
   "cell_type": "code",
   "execution_count": 269,
   "metadata": {},
   "outputs": [
    {
     "name": "stdout",
     "output_type": "stream",
     "text": [
      "Index(['Crowdfunding Event', 'Digital', 'Direct Mail', 'E Mail', 'Event',\n",
      "       'Inspired Gift', 'Payment Channel Vipps -Unknown Donors', 'SMS',\n",
      "       'Spontaneous Gift', 'Testamentarisk gave', 'Unknown',\n",
      "       'Web Shop Inspired Gift', 'Digital', 'Direct Mail', 'E Mail', 'Event',\n",
      "       'Inspired Gift', 'SMS', 'Spontaneous Gift', 'Testamentarisk gave',\n",
      "       'Unknown', 'Web Shop Inspired Gift'],\n",
      "      dtype='object', name='Source Channel Recruitment')\n"
     ]
    }
   ],
   "source": [
    "print(df_channel.index.get_level_values(1)) #get an overview of the different channels in each cluster\n",
    "d = {t: i for i, t in enumerate(df_channel.index.get_level_values(1).unique())} #maping each channel to a number"
   ]
  },
  {
   "cell_type": "code",
   "execution_count": 270,
   "metadata": {},
   "outputs": [
    {
     "data": {
      "text/plain": [
       "'Digital'"
      ]
     },
     "execution_count": 270,
     "metadata": {},
     "output_type": "execute_result"
    }
   ],
   "source": [
    "list(d.keys())[1]"
   ]
  },
  {
   "cell_type": "markdown",
   "metadata": {},
   "source": [
    "### Finn ut hva categories burde vært/er for noe! "
   ]
  },
  {
   "cell_type": "code",
   "execution_count": 271,
   "metadata": {},
   "outputs": [
    {
     "data": {
      "text/plain": [
       "Index(['Crowdfunding Event', 'Digital', 'Direct Mail', 'E Mail', 'Event',\n",
       "       'Inspired Gift', 'Payment Channel Vipps -Unknown Donors', 'SMS',\n",
       "       'Spontaneous Gift', 'Testamentarisk gave', 'Unknown',\n",
       "       'Web Shop Inspired Gift'],\n",
       "      dtype='object', name='Source Channel Recruitment')"
      ]
     },
     "execution_count": 271,
     "metadata": {},
     "output_type": "execute_result"
    }
   ],
   "source": [
    "categories = df_channel.index.get_level_values(1).unique().T\n",
    "categories"
   ]
  },
  {
   "cell_type": "code",
   "execution_count": 272,
   "metadata": {},
   "outputs": [
    {
     "data": {
      "text/plain": [
       "Index(['Crowdfunding Event', 'Digital', 'Direct Mail', 'E Mail', 'Event',\n",
       "       'Inspired Gift', 'Payment Channel Vipps -Unknown Donors', 'SMS',\n",
       "       'Spontaneous Gift', 'Testamentarisk gave', 'Unknown',\n",
       "       'Web Shop Inspired Gift'],\n",
       "      dtype='object', name='Source Channel Recruitment')"
      ]
     },
     "execution_count": 272,
     "metadata": {},
     "output_type": "execute_result"
    }
   ],
   "source": [
    "df_channel['Amount'].loc[0][categories].index #checking the differnet categories "
   ]
  },
  {
   "cell_type": "markdown",
   "metadata": {},
   "source": [
    "## Bar plott of which channel the typical givers are convinced by"
   ]
  },
  {
   "cell_type": "code",
   "execution_count": 273,
   "metadata": {},
   "outputs": [
    {
     "data": {
      "text/plain": [
       "{'Crowdfunding Event': 0,\n",
       " 'Digital': 1,\n",
       " 'Direct Mail': 2,\n",
       " 'E Mail': 3,\n",
       " 'Event': 4,\n",
       " 'Inspired Gift': 5,\n",
       " 'Payment Channel Vipps -Unknown Donors': 6,\n",
       " 'SMS': 7,\n",
       " 'Spontaneous Gift': 8,\n",
       " 'Testamentarisk gave': 9,\n",
       " 'Unknown': 10,\n",
       " 'Web Shop Inspired Gift': 11}"
      ]
     },
     "execution_count": 273,
     "metadata": {},
     "output_type": "execute_result"
    }
   ],
   "source": [
    "d"
   ]
  },
  {
   "cell_type": "code",
   "execution_count": 275,
   "metadata": {
    "scrolled": true
   },
   "outputs": [
    {
     "data": {
      "image/png": "[encoded data removed]",
      "text/plain": [
       "<Figure size 432x288 with 1 Axes>"
      ]
     },
     "metadata": {
      "needs_background": "light"
     },
     "output_type": "display_data"
    }
   ],
   "source": [
    "xticks = [i for i in range(len(d))] # labels for x-axis\n",
    "\n",
    "old_bar = [0]*len(d)   # initializing zero vector with length == number of channels\n",
    "\n",
    "fig, ax = plt.subplots() # initializing subplots\n",
    "\n",
    "for i in range(n_clusters): #ploting channel for each cluster's \n",
    "\n",
    "    y = [0]*len(d)\n",
    "    \n",
    "    indices = df_channel['Amount'].loc[i].index\n",
    "    values = df_channel['Amount'].loc[i].values\n",
    "    \n",
    "    for j, v in zip(indices, values):\n",
    "        y[d[j]] = v #creating new y (height of bar per channel)\n",
    "    ax.bar(xticks, y, bottom=old_bar, label='Cluster ' + str(i)) #plotting\n",
    "    \n",
    "    old_bar = np.add(old_bar, y) #adding values to the bars such (since the bars are put on top of each other)\n",
    "plt.legend() # inserting legend\n",
    "    \n",
    "ax.set_xticks(xticks) #inserting x-labels\n",
    "ax.set_xticklabels(d.keys(), rotation=90) #rotating labels 90 deg\n",
    "fig.savefig(str(n_clusters) + 'Clusters bar plot.png') # save bar plot for report\n",
    "plt.show() #display plot\n"
   ]
  },
  {
   "cell_type": "markdown",
   "metadata": {},
   "source": [
    "## Checking the different typical groups"
   ]
  },
  {
   "cell_type": "code",
   "execution_count": 276,
   "metadata": {},
   "outputs": [
    {
     "data": {
      "text/html": [
       "<div>\n",
       "<style scoped>\n",
       "    .dataframe tbody tr th:only-of-type {\n",
       "        vertical-align: middle;\n",
       "    }\n",
       "\n",
       "    .dataframe tbody tr th {\n",
       "        vertical-align: top;\n",
       "    }\n",
       "\n",
       "    .dataframe thead th {\n",
       "        text-align: right;\n",
       "    }\n",
       "</style>\n",
       "<table border=\"1\" class=\"dataframe\">\n",
       "  <thead>\n",
       "    <tr style=\"text-align: right;\">\n",
       "      <th></th>\n",
       "      <th></th>\n",
       "      <th>Amount</th>\n",
       "    </tr>\n",
       "    <tr>\n",
       "      <th>ClusterID</th>\n",
       "      <th>Source Channel Recruitment</th>\n",
       "      <th></th>\n",
       "    </tr>\n",
       "  </thead>\n",
       "  <tbody>\n",
       "    <tr>\n",
       "      <th rowspan=\"12\" valign=\"top\">0</th>\n",
       "      <th>Crowdfunding Event</th>\n",
       "      <td>0.000047</td>\n",
       "    </tr>\n",
       "    <tr>\n",
       "      <th>Digital</th>\n",
       "      <td>0.064075</td>\n",
       "    </tr>\n",
       "    <tr>\n",
       "      <th>Direct Mail</th>\n",
       "      <td>0.323954</td>\n",
       "    </tr>\n",
       "    <tr>\n",
       "      <th>E Mail</th>\n",
       "      <td>0.002861</td>\n",
       "    </tr>\n",
       "    <tr>\n",
       "      <th>Event</th>\n",
       "      <td>0.109409</td>\n",
       "    </tr>\n",
       "    <tr>\n",
       "      <th>Inspired Gift</th>\n",
       "      <td>0.002805</td>\n",
       "    </tr>\n",
       "    <tr>\n",
       "      <th>Payment Channel Vipps -Unknown Donors</th>\n",
       "      <td>0.000608</td>\n",
       "    </tr>\n",
       "    <tr>\n",
       "      <th>SMS</th>\n",
       "      <td>0.395005</td>\n",
       "    </tr>\n",
       "    <tr>\n",
       "      <th>Spontaneous Gift</th>\n",
       "      <td>0.004395</td>\n",
       "    </tr>\n",
       "    <tr>\n",
       "      <th>Testamentarisk gave</th>\n",
       "      <td>0.000056</td>\n",
       "    </tr>\n",
       "    <tr>\n",
       "      <th>Unknown</th>\n",
       "      <td>0.004891</td>\n",
       "    </tr>\n",
       "    <tr>\n",
       "      <th>Web Shop Inspired Gift</th>\n",
       "      <td>0.091857</td>\n",
       "    </tr>\n",
       "    <tr>\n",
       "      <th rowspan=\"10\" valign=\"top\">1</th>\n",
       "      <th>Digital</th>\n",
       "      <td>0.050903</td>\n",
       "    </tr>\n",
       "    <tr>\n",
       "      <th>Direct Mail</th>\n",
       "      <td>0.639757</td>\n",
       "    </tr>\n",
       "    <tr>\n",
       "      <th>E Mail</th>\n",
       "      <td>0.000368</td>\n",
       "    </tr>\n",
       "    <tr>\n",
       "      <th>Event</th>\n",
       "      <td>0.016383</td>\n",
       "    </tr>\n",
       "    <tr>\n",
       "      <th>Inspired Gift</th>\n",
       "      <td>0.001112</td>\n",
       "    </tr>\n",
       "    <tr>\n",
       "      <th>SMS</th>\n",
       "      <td>0.105860</td>\n",
       "    </tr>\n",
       "    <tr>\n",
       "      <th>Spontaneous Gift</th>\n",
       "      <td>0.001141</td>\n",
       "    </tr>\n",
       "    <tr>\n",
       "      <th>Testamentarisk gave</th>\n",
       "      <td>0.000123</td>\n",
       "    </tr>\n",
       "    <tr>\n",
       "      <th>Unknown</th>\n",
       "      <td>0.003064</td>\n",
       "    </tr>\n",
       "    <tr>\n",
       "      <th>Web Shop Inspired Gift</th>\n",
       "      <td>0.181290</td>\n",
       "    </tr>\n",
       "  </tbody>\n",
       "</table>\n",
       "</div>"
      ],
      "text/plain": [
       "                                                   Amount\n",
       "ClusterID Source Channel Recruitment                     \n",
       "0         Crowdfunding Event                     0.000047\n",
       "          Digital                                0.064075\n",
       "          Direct Mail                            0.323954\n",
       "          E Mail                                 0.002861\n",
       "          Event                                  0.109409\n",
       "          Inspired Gift                          0.002805\n",
       "          Payment Channel Vipps -Unknown Donors  0.000608\n",
       "          SMS                                    0.395005\n",
       "          Spontaneous Gift                       0.004395\n",
       "          Testamentarisk gave                    0.000056\n",
       "          Unknown                                0.004891\n",
       "          Web Shop Inspired Gift                 0.091857\n",
       "1         Digital                                0.050903\n",
       "          Direct Mail                            0.639757\n",
       "          E Mail                                 0.000368\n",
       "          Event                                  0.016383\n",
       "          Inspired Gift                          0.001112\n",
       "          SMS                                    0.105860\n",
       "          Spontaneous Gift                       0.001141\n",
       "          Testamentarisk gave                    0.000123\n",
       "          Unknown                                0.003064\n",
       "          Web Shop Inspired Gift                 0.181290"
      ]
     },
     "execution_count": 276,
     "metadata": {},
     "output_type": "execute_result"
    }
   ],
   "source": [
    "df_channel"
   ]
  },
  {
   "cell_type": "code",
   "execution_count": 277,
   "metadata": {},
   "outputs": [],
   "source": [
    "CLUSTER = 0"
   ]
  },
  {
   "cell_type": "code",
   "execution_count": 278,
   "metadata": {},
   "outputs": [
    {
     "data": {
      "image/png": "[encoded data removed]",
      "text/plain": [
       "<Figure size 432x288 with 1 Axes>"
      ]
     },
     "metadata": {
      "needs_background": "light"
     },
     "output_type": "display_data"
    }
   ],
   "source": [
    "#checking that the typical groups are representative for each person (especially for cluster)\n",
    "fig, ax = plt.subplots()\n",
    "yo = df_transformed[df_transformed['ClusterID']==CLUSTER].drop('ClusterID', axis=1)\n",
    "for i in range(len(yo)):\n",
    "    #ax.plot(df_transformed.columns, df_transformed.loc[giverid0].values, color='red')\n",
    "    ax.plot(yo.columns, yo.iloc[i].values, color='black')\n",
    "    if i > -1: break\n",
    "plt.show()"
   ]
  }
 ],
 "metadata": {
  "kernelspec": {
   "display_name": "Python 3",
   "language": "python",
   "name": "python3"
  },
  "language_info": {
   "codemirror_mode": {
    "name": "ipython",
    "version": 3
   },
   "file_extension": ".py",
   "mimetype": "text/x-python",
   "name": "python",
   "nbconvert_exporter": "python",
   "pygments_lexer": "ipython3",
   "version": "3.7.3"
  }
 },
 "nbformat": 4,
 "nbformat_minor": 4
}
